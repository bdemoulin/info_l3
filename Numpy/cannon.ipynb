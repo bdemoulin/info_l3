{
 "metadata": {
  "name": "",
  "signature": "sha256:24cc5429546e3b5f602dfb339cfe75db086e922e0be04b48a681fd970945e89b"
 },
 "nbformat": 3,
 "nbformat_minor": 0,
 "worksheets": [
  {
   "cells": [
    {
     "cell_type": "code",
     "collapsed": false,
     "input": [
      "import numpy as np\n",
      "from scipy.integrate import odeint"
     ],
     "language": "python",
     "metadata": {},
     "outputs": [],
     "prompt_number": 32
    },
    {
     "cell_type": "code",
     "collapsed": false,
     "input": [
      "g = 9.81       # Pesanteur [m/s2]\n",
      "cx = 0.45      # Coefficient de frottement d'une sph\u00e8re\n",
      "rhoAir = 1.2   # Masse volumique de l'air [kg/m3]\n",
      "rad = 0.1748/2 # Rayon du boulet [m]\n",
      "rho = 6.23e3   # Masse volumique du boulet [kg/m3]\n",
      "mass = 4./3.*np.pi*rad**3 * rho           # Masse du boulet [kg]\n",
      "alpha = 0.5*cx*rhoAir*np.pi*rad**2 / mass # Coeff. de frottement / masse\n",
      "v0 = 450.      # Vitesse initiale [m/s]\n",
      "alt = 45.      # Inclinaison du canon [deg]"
     ],
     "language": "python",
     "metadata": {},
     "outputs": [],
     "prompt_number": 33
    },
    {
     "cell_type": "code",
     "collapsed": false,
     "input": [
      "alt *= np.pi/180"
     ],
     "language": "python",
     "metadata": {},
     "outputs": [],
     "prompt_number": 34
    },
    {
     "cell_type": "code",
     "collapsed": false,
     "input": [
      "z0 = (0.,0.,v0*np.cos(alt),v0*np.sin(alt))"
     ],
     "language": "python",
     "metadata": {},
     "outputs": [],
     "prompt_number": 35
    },
    {
     "cell_type": "code",
     "collapsed": true,
     "input": [
      "def equation(z,v):\n",
      "    \n",
      "    \"\"\"\n",
      "    Returns the first derivative of z (vx,vy,...)\n",
      "    \"\"\"\n",
      "    x,y,vx,vy = z\n",
      "    \n",
      "    v_norm = np.sqrt(vx**2 + vy**2)\n",
      "    \n",
      "    return (vx,vy,-alpha* v_norm * vx, -g-alpha* v_norm * vy)"
     ],
     "language": "python",
     "metadata": {},
     "outputs": [],
     "prompt_number": 42
    },
    {
     "cell_type": "code",
     "collapsed": false,
     "input": [
      "temps = np.sqrt(mass/(g*alpha))"
     ],
     "language": "python",
     "metadata": {},
     "outputs": [],
     "prompt_number": 50
    },
    {
     "cell_type": "code",
     "collapsed": false,
     "input": [
      "t = np.linspace(0,temps,100)"
     ],
     "language": "python",
     "metadata": {},
     "outputs": [],
     "prompt_number": 51
    },
    {
     "cell_type": "code",
     "collapsed": false,
     "input": [
      "solution = odeint(equation,z0,t)"
     ],
     "language": "python",
     "metadata": {},
     "outputs": [],
     "prompt_number": 52
    },
    {
     "cell_type": "code",
     "collapsed": false,
     "input": [
      "ypos = solution[:,1]>=0; ypos"
     ],
     "language": "python",
     "metadata": {},
     "outputs": [
      {
       "metadata": {},
       "output_type": "pyout",
       "prompt_number": 58,
       "text": [
        "array([ True,  True,  True,  True,  True,  True,  True,  True,  True,\n",
        "        True,  True,  True,  True,  True,  True,  True,  True,  True,\n",
        "        True,  True,  True,  True,  True,  True,  True,  True,  True,\n",
        "        True,  True,  True,  True,  True,  True,  True,  True,  True,\n",
        "        True,  True,  True,  True,  True,  True,  True,  True,  True,\n",
        "        True,  True,  True,  True,  True,  True,  True,  True, False,\n",
        "       False, False, False, False, False, False, False, False, False,\n",
        "       False, False, False, False, False, False, False, False, False,\n",
        "       False, False, False, False, False, False, False, False, False,\n",
        "       False, False, False, False, False, False, False, False, False,\n",
        "       False, False, False, False, False, False, False, False, False, False], dtype=bool)"
       ]
      }
     ],
     "prompt_number": 58
    },
    {
     "cell_type": "code",
     "collapsed": false,
     "input": [
      "plot(solution[ypos,0],solution[ypos,1],'b.-')"
     ],
     "language": "python",
     "metadata": {},
     "outputs": [
      {
       "metadata": {},
       "output_type": "pyout",
       "prompt_number": 63,
       "text": [
        "[<matplotlib.lines.Line2D at 0x4a6a750>]"
       ]
      },
      {
       "metadata": {},
       "output_type": "display_data",
       "png": "[encoded data removed]",
       "text": [
        "<matplotlib.figure.Figure at 0x4190590>"
       ]
      }
     ],
     "prompt_number": 63
    },
    {
     "cell_type": "code",
     "collapsed": false,
     "input": [],
     "language": "python",
     "metadata": {},
     "outputs": []
    }
   ],
   "metadata": {}
  }
 ]
}