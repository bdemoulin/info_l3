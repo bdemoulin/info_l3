{
 "metadata": {
  "name": "anscombe_quartet"
 },
 "nbformat": 3,
 "nbformat_minor": 0,
 "worksheets": [
  {
   "cells": [
    {
     "cell_type": "code",
     "collapsed": false,
     "input": [
      "import numpy as np\n",
      "import scipy.stats as sp"
     ],
     "language": "python",
     "metadata": {},
     "outputs": [],
     "prompt_number": 1
    },
    {
     "cell_type": "markdown",
     "metadata": {},
     "source": [
      "Commen\u00e7ons par importer le fichier `anscombe.dat` gr\u00e2ce \u00e0 la fonction `numpy.genfromtxt` :"
     ]
    },
    {
     "cell_type": "code",
     "collapsed": false,
     "input": [
      "anscombe = np.genfromtxt(\"anscombe.dat\"); anscombe"
     ],
     "language": "python",
     "metadata": {},
     "outputs": [
      {
       "output_type": "pyout",
       "prompt_number": 2,
       "text": [
        "array([[ 10.  ,   8.04,  10.  ,   9.14,  10.  ,   7.46,   8.  ,   6.58],\n",
        "       [  8.  ,   6.95,   8.  ,   8.14,   8.  ,   6.77,   8.  ,   5.76],\n",
        "       [ 13.  ,   7.58,  13.  ,   8.74,  13.  ,  12.74,   8.  ,   7.71],\n",
        "       [  9.  ,   8.81,   9.  ,   8.77,   9.  ,   7.11,   8.  ,   8.84],\n",
        "       [ 11.  ,   8.33,  11.  ,   9.26,  11.  ,   7.81,   8.  ,   8.47],\n",
        "       [ 14.  ,   9.96,  14.  ,   8.1 ,  14.  ,   8.84,   8.  ,   7.04],\n",
        "       [  6.  ,   7.24,   6.  ,   6.13,   6.  ,   6.08,   8.  ,   5.25],\n",
        "       [  4.  ,   4.26,   4.  ,   3.1 ,   4.  ,   5.39,  19.  ,  12.5 ],\n",
        "       [ 12.  ,  10.84,  12.  ,   9.13,  12.  ,   8.15,   8.  ,   5.56],\n",
        "       [  7.  ,   4.82,   7.  ,   7.26,   7.  ,   6.42,   8.  ,   7.91],\n",
        "       [  5.  ,   5.68,   5.  ,   4.74,   5.  ,   5.73,   8.  ,   6.89]])"
       ]
      }
     ],
     "prompt_number": 2
    },
    {
     "cell_type": "markdown",
     "metadata": {},
     "source": [
      "La fonction `getStats` permet d'extraire de notre fichier les moyennes, variances et coefficients de corr\u00e9lations, et de les afficher."
     ]
    },
    {
     "cell_type": "code",
     "collapsed": false,
     "input": [
      "def getStats(x,y,printStats=True):\n",
      "    \n",
      "    print \"Mean value for x: {:.2f} (variance: {:.2f})\".format(np.mean(x),np.var(x))\n",
      "    print \"Mean value for y: {:.2f} (variance: {:.2f})\".format(np.mean(y),np.var(y))\n",
      "    print \"Pearson correlation coefficient: {:.2f}\".format(sp.pearsonr(x,y)[0])\n",
      "    print \"Linear regression: y = {:.2f}x + {:.2f}\".format(sp.linregress(x,y)[0],sp.linregress(x,y)[1])\n",
      "    "
     ],
     "language": "python",
     "metadata": {},
     "outputs": [],
     "prompt_number": 3
    },
    {
     "cell_type": "markdown",
     "metadata": {},
     "source": [
      "La fonction `plotStats` nous permettra de repr\u00e9senter les nuages de points et les r\u00e9gressions lin\u00e9aires pour chaque jeu de donn\u00e9es. "
     ]
    },
    {
     "cell_type": "code",
     "collapsed": false,
     "input": [
      "def plotStats(x,y,ax,title=''):\n",
      "    \n",
      "    # Store the values returned by `linregress` in variables\n",
      "    slope,intercept,pearson,p_val,stderr = sp.linregress(x,y)\n",
      "    \n",
      "    # Plot the datasets x and y\n",
      "    ax.plot(x,y,ls='None',marker='o',markeredgecolor='orange',markerfacecolor='white')\n",
      "    \n",
      "    # Plot the linear regression\n",
      "    t = np.arange(0., 20., 0.1)\n",
      "    ax.plot(t, slope*t + intercept,label='y = {:.2f}x + {:.2f}'.format(slope,intercept))\n",
      "    \n",
      "    # Title and axes labels\n",
      "    ax.set_title(title)\n",
      "    ax.set_xlim([0,20])\n",
      "    ax.set_ylim([0,15])\n",
      "    legend = ax.legend(loc='upper left',fontsize='small')\n",
      "    "
     ],
     "language": "python",
     "metadata": {},
     "outputs": [],
     "prompt_number": 4
    },
    {
     "cell_type": "markdown",
     "metadata": {},
     "source": [
      "Il nous reste ensuite \u00e0 tracer les quatre graphes. On utilise la routine `subplots` qui permet de partager les axes $x$ et $y$ entre les graphes pour un affichage plus joli. L'inconv\u00e9nient est alors que les `subplots` sont fix\u00e9s et ne peuvent pas \u00eatre ajout\u00e9s avec `add_subplots`, ce qui oblige \u00e0 les indexer s\u00e9par\u00e9ment. On fait cela \u00e0 l'aide de la liste `places`."
     ]
    },
    {
     "cell_type": "code",
     "collapsed": false,
     "input": [
      "fig,ax = subplots(2,2,sharex=True,sharey=True)\n",
      "places = [0,0], [0,1], [1,0], [1,1] \n",
      "\n",
      "for i in xrange(0,8,2):\n",
      "    \n",
      "    x = anscombe[:,i]\n",
      "    y = anscombe[:,i+1]\n",
      "    \n",
      "    # Print the statitics of the four sets\n",
      "    print \"===============\"\n",
      "    print \"Data for set {}\".format(i/2 + 1)\n",
      "    getStats(x,y)\n",
      "    print \"\\n\"\n",
      "    \n",
      "    # Plot the graphs\n",
      "    place = places[i/2]\n",
      "    axis = ax[place[0],place[1]]\n",
      "    title = 'Set {}'.format(i/2 + 1)\n",
      "    plotStats(x,y,axis,title)"
     ],
     "language": "python",
     "metadata": {},
     "outputs": [
      {
       "output_type": "stream",
       "stream": "stdout",
       "text": [
        "===============\n",
        "Data for set 1\n",
        "Mean value for x: 9.00 (variance: 10.00)\n",
        "Mean value for y: 7.50 (variance: 3.75)\n",
        "Pearson correlation coefficient: 0.82\n",
        "Linear regression: y = 0.50x + 3.00\n",
        "\n",
        "\n",
        "===============\n",
        "Data for set 2\n",
        "Mean value for x: 9.00 (variance: 10.00)\n",
        "Mean value for y: 7.50 (variance: 3.75)\n",
        "Pearson correlation coefficient: 0.82\n",
        "Linear regression: y = 0.50x + 3.00\n",
        "\n",
        "\n",
        "===============\n",
        "Data for set 3\n",
        "Mean value for x: 9.00 (variance: 10.00)\n",
        "Mean value for y: 7.50 (variance: 3.75)\n",
        "Pearson correlation coefficient: 0.82\n",
        "Linear regression: y = 0.50x + 3.00\n",
        "\n",
        "\n",
        "===============\n",
        "Data for set 4\n",
        "Mean value for x: 9.00 (variance: 10.00)\n",
        "Mean value for y: 7.50 (variance: 3.75)\n",
        "Pearson correlation coefficient: 0.82\n",
        "Linear regression: y = 0.50x + 3.00\n",
        "\n",
        "\n"
       ]
      },
      {
       "output_type": "display_data",
       "png": "[encoded data removed]"
      }
     ],
     "prompt_number": 5
    },
    {
     "cell_type": "code",
     "collapsed": false,
     "input": [],
     "language": "python",
     "metadata": {},
     "outputs": [],
     "prompt_number": 5
    }
   ],
   "metadata": {}
  }
 ]
}