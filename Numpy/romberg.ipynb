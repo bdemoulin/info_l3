{
 "metadata": {
  "name": "",
  "signature": "sha256:40b6eb553451127dd1b49b70e8b4fe1a165749e2720b937e8bb04f8b1f56ad52"
 },
 "nbformat": 3,
 "nbformat_minor": 0,
 "worksheets": [
  {
   "cells": [
    {
     "cell_type": "markdown",
     "metadata": {},
     "source": [
      "## M\u00e9thode de Romberg"
     ]
    },
    {
     "cell_type": "markdown",
     "metadata": {},
     "source": [
      "Comme d'habitude, on commence par importer `numpy` et la division r\u00e9elle."
     ]
    },
    {
     "cell_type": "code",
     "collapsed": false,
     "input": [
      "import numpy as np\n",
      "from __future__ import division\n",
      "import time"
     ],
     "language": "python",
     "metadata": {},
     "outputs": [],
     "prompt_number": 1
    },
    {
     "cell_type": "markdown",
     "metadata": {},
     "source": [
      "On d\u00e9finit ensuite une fonction simple, dont on conna\u00eet bien l'int\u00e9grale, pour pouvoir tester nos diff\u00e9rentes fonctions."
     ]
    },
    {
     "cell_type": "code",
     "collapsed": false,
     "input": [
      "def f(x):\n",
      "    return x**2"
     ],
     "language": "python",
     "metadata": {},
     "outputs": [],
     "prompt_number": 2
    },
    {
     "cell_type": "markdown",
     "metadata": {},
     "source": [
      "### Commen\u00e7ons par d\u00e9finir la m\u00e9thode des trap\u00e8zes"
     ]
    },
    {
     "cell_type": "code",
     "collapsed": false,
     "input": [
      "def trapeze(f,a,b,n):\n",
      "    \n",
      "    h = (b-a)/2**n\n",
      "    \n",
      "    integral = h*( (f(a)+f(b)) / 2 )\n",
      "    \n",
      "    for i in xrange(1,2**n):\n",
      "        integral += h*f(a+i*h)\n",
      "        \n",
      "    return integral"
     ],
     "language": "python",
     "metadata": {},
     "outputs": [],
     "prompt_number": 3
    },
    {
     "cell_type": "markdown",
     "metadata": {},
     "source": [
      "On teste cette fonction pour voir si elle fonctionne. On estime aussi son temps d'ex\u00e9cution, pour comparer \u00e0 la m\u00e9thode Romberg ou aux m\u00e9thodes de `scipy` :"
     ]
    },
    {
     "cell_type": "code",
     "collapsed": false,
     "input": [
      "begin_trapeze = time.time()\n",
      "print trapeze(f,0,1,10)\n",
      "end_trapeze = time.time()\n",
      "print end_trapeze - begin_trapeze"
     ],
     "language": "python",
     "metadata": {},
     "outputs": [
      {
       "output_type": "stream",
       "stream": "stdout",
       "text": [
        "0.333333492279\n",
        "0.00172019004822\n"
       ]
      }
     ],
     "prompt_number": 4
    },
    {
     "cell_type": "markdown",
     "metadata": {},
     "source": [
      "### M\u00e9thode de Romberg"
     ]
    },
    {
     "cell_type": "markdown",
     "metadata": {},
     "source": [
      "Notre algorithme est le suivant, pour chaque valeur $n$ :\n",
      "\n",
      "- les \u00e9l\u00e9ments de la liste `r` sont de type $[R(0,0)], [R(1,0), R(1,1)], \\ldots , [R(n-1,0), \\ldots , R(n-1,n-1)]$  \n",
      "- on commence par calculer le terme $R(n,0)$ ;\n",
      "- on calcule ensuite par r\u00e9currence les $R(n,m)$ pour $1<m<n$, en stockant ces termes dans une liste `r_n` ;\n",
      "- on ajoute notre liste `r_n` nouvellement cr\u00e9\u00e9e \u00e0 une liste `r` ;\n",
      "- on compare le dernier \u00e9l\u00e9ment de la liste `r_n` au dernier \u00e9l\u00e9ment de `r` de rang $n-1$ : `r_n[n-1]` et `r[n-1][n-1]` ; si cette diff\u00e9rence est plus grande que `epsilon`, on recommence."
     ]
    },
    {
     "cell_type": "code",
     "collapsed": false,
     "input": [
      "def romberg(f,a,b,epsilon=1e-6,maxIter=200):\n",
      "    \n",
      "    # Initialization of list `r`\n",
      "    r = [ [trapeze(f,a,b,0)] ]\n",
      "    \n",
      "    # difference gives the convergence condition\n",
      "    # n is the rank\n",
      "    # count is the number of iteration, so that we do not have infinite loop.\n",
      "    difference = 1\n",
      "    n = 1\n",
      "    count = 0\n",
      "    \n",
      "    while difference > epsilon and count<maxIter:\n",
      "        \n",
      "        # Initialization of r_n with trapeze(f,a,b,n)\n",
      "        r_n = []\n",
      "        r_n.append(trapeze(f,a,b,n))\n",
      "        \n",
      "        # Computation of the elements R(n,m) for 1<m<n\n",
      "        for m in xrange(1,n+1):\n",
      "            r_n.append((4**m * r_n[m-1] - r[n-1][m-1])/(4**m - 1))\n",
      "            \n",
      "        # We add the list `r_n` to the list `r` \n",
      "        r.append(r_n)\n",
      "        \n",
      "        # We update the values of `difference`, `n` and `count`\n",
      "        difference = abs(r_n[n] - r[n-1][n-1])\n",
      "        n+=1\n",
      "        count += 1\n",
      "\n",
      "    # We want the value of the integral and the number of iteration\n",
      "    return r,count"
     ],
     "language": "python",
     "metadata": {},
     "outputs": [],
     "prompt_number": 5
    },
    {
     "cell_type": "markdown",
     "metadata": {},
     "source": [
      "Testons maintenant notre fonction !"
     ]
    },
    {
     "cell_type": "code",
     "collapsed": false,
     "input": [
      "romberg(f,0,1)"
     ],
     "language": "python",
     "metadata": {},
     "outputs": [
      {
       "metadata": {},
       "output_type": "pyout",
       "prompt_number": 6,
       "text": [
        "([[0.5],\n",
        "  [0.375, 0.3333333333333333],\n",
        "  [0.34375, 0.3333333333333333, 0.3333333333333333]],\n",
        " 2)"
       ]
      }
     ],
     "prompt_number": 6
    },
    {
     "cell_type": "markdown",
     "metadata": {},
     "source": [
      "On approche tr\u00e8s bien le r\u00e9sultat analytique, en seulement deux it\u00e9rations ! Avec seulement `trapeze`, \u00e0 l'ordre 10, on parvenait \u00e0 un r\u00e9sultat bien moins satisfaisant."
     ]
    },
    {
     "cell_type": "markdown",
     "metadata": {},
     "source": [
      "### Comparaison avec `scipy`"
     ]
    },
    {
     "cell_type": "code",
     "collapsed": false,
     "input": [
      "from scipy.integrate import romberg as romberg_original"
     ],
     "language": "python",
     "metadata": {},
     "outputs": [],
     "prompt_number": 7
    },
    {
     "cell_type": "markdown",
     "metadata": {},
     "source": [
      "Notre fonction, avec son temps d'ex\u00e9cution :"
     ]
    },
    {
     "cell_type": "code",
     "collapsed": false,
     "input": [
      "begin_romberg = time.time()\n",
      "print romberg(f,0,1)\n",
      "end_romberg = time.time()\n",
      "print end_romberg - begin_romberg"
     ],
     "language": "python",
     "metadata": {},
     "outputs": [
      {
       "output_type": "stream",
       "stream": "stdout",
       "text": [
        "([[0.5], [0.375, 0.3333333333333333], [0.34375, 0.3333333333333333, 0.3333333333333333]], 2)\n",
        "0.000317096710205\n"
       ]
      }
     ],
     "prompt_number": 8
    },
    {
     "cell_type": "markdown",
     "metadata": {},
     "source": [
      "Celle de `scipy`"
     ]
    },
    {
     "cell_type": "code",
     "collapsed": false,
     "input": [
      "begin_romberg = time.time()\n",
      "romberg_original(f,0,1,tol=1e-6,rtol=1e-6,show=True)\n",
      "end_romberg = time.time()\n",
      "print end_romberg - begin_romberg"
     ],
     "language": "python",
     "metadata": {},
     "outputs": [
      {
       "output_type": "stream",
       "stream": "stdout",
       "text": [
        "Romberg integration of <function vfunc at 0x2c642a8> from [0, 1]\n",
        "\n",
        " Steps  StepSize   Results\n",
        "     1  1.000000  0.500000 \n",
        "     2  0.500000  0.375000  0.333333 \n",
        "     4  0.250000  0.343750  0.333333  0.333333 \n",
        "\n",
        "The final result is 0.333333333333 after 5 function evaluations.\n",
        "0.00128197669983\n"
       ]
      }
     ],
     "prompt_number": 9
    },
    {
     "cell_type": "markdown",
     "metadata": {},
     "source": [
      "On a donc un temps d'ex\u00e9cution un peu meilleur que `scipy` :) "
     ]
    },
    {
     "cell_type": "markdown",
     "metadata": {},
     "source": [
      "### Une fonction un peu plus complexe"
     ]
    },
    {
     "cell_type": "code",
     "collapsed": false,
     "input": [
      "import numpy as np"
     ],
     "language": "python",
     "metadata": {},
     "outputs": [],
     "prompt_number": 10
    },
    {
     "cell_type": "code",
     "collapsed": false,
     "input": [
      "def g(x):\n",
      "    return 1/np.sqrt(np.pi) * np.exp(-x**2)"
     ],
     "language": "python",
     "metadata": {},
     "outputs": [],
     "prompt_number": 11
    },
    {
     "cell_type": "code",
     "collapsed": false,
     "input": [
      "begin_romberg = time.time()\n",
      "print romberg(g,0,1)\n",
      "end_romberg = time.time()\n",
      "print end_romberg - begin_romberg"
     ],
     "language": "python",
     "metadata": {},
     "outputs": [
      {
       "output_type": "stream",
       "stream": "stdout",
       "text": [
        "([[0.38587166612902679], [0.41263147779837461, 0.42155141502149052], [0.41918388872060247, 0.42136802569467841, 0.42135579973955756], [0.42080961062238398, 0.42135151792297781, 0.42135041740486445, 0.42135033197098043], [0.42121525274511623, 0.421350466786027, 0.42135039671023028, 0.42135039638174404, 0.42135039663433527]], 4)\n",
        "0.000992059707642\n"
       ]
      }
     ],
     "prompt_number": 12
    },
    {
     "cell_type": "code",
     "collapsed": false,
     "input": [
      "begin_romberg = time.time()\n",
      "print romberg_original(g,-1,1,tol=1e-6,rtol=1e-6,show=True)\n",
      "end_romberg = time.time()\n",
      "print end_romberg - begin_romberg"
     ],
     "language": "python",
     "metadata": {},
     "outputs": [
      {
       "output_type": "stream",
       "stream": "stdout",
       "text": [
        "Romberg integration of <function vfunc at 0x2c6b050> from [-1, 1]\n",
        "\n",
        " Steps  StepSize   Results\n",
        "     1  2.000000  0.415107 \n",
        "     2  1.000000  0.771743  0.890622 \n",
        "     4  0.500000  0.825263  0.843103  0.839935 \n",
        "     8  0.250000  0.838368  0.842736  0.842712  0.842756 \n",
        "    16  0.125000  0.841619  0.842703  0.842701  0.842701  0.842700 \n",
        "    32  0.062500  0.842431  0.842701  0.842701  0.842701  0.842701  0.842701 \n",
        "\n",
        "The final result is 0.842700793606 after 33 function evaluations.\n",
        "0.842700793606\n",
        "0.00387597084045\n"
       ]
      }
     ],
     "prompt_number": 13
    },
    {
     "cell_type": "markdown",
     "metadata": {},
     "source": [
      "L\u00e0 encore, on fait mieux ! N'oublions pas cependant que la fonction incluse dans `numpy` est peut-\u00eatre plus robuste, qu'elle permet d'utiliser des fonctions vectorielles... Essayons par exemple d'am\u00e9liorer la pr\u00e9cision :"
     ]
    },
    {
     "cell_type": "code",
     "collapsed": false,
     "input": [
      "begin_romberg = time.time()\n",
      "print romberg(g,0,1,epsilon=1.48e-8)\n",
      "end_romberg = time.time()\n",
      "print end_romberg - begin_romberg"
     ],
     "language": "python",
     "metadata": {},
     "outputs": [
      {
       "output_type": "stream",
       "stream": "stdout",
       "text": [
        "([[0.38587166612902679], [0.41263147779837461, 0.42155141502149052], [0.41918388872060247, 0.42136802569467841, 0.42135579973955756], [0.42080961062238398, 0.42135151792297781, 0.42135041740486445, 0.42135033197098043], [0.42121525274511623, 0.421350466786027, 0.42135039671023028, 0.42135039638174404, 0.42135039663433527], [0.42131661384062852, 0.42135040087246595, 0.42135039647822853, 0.42135039647454592, 0.42135039647490985, 0.42135039647475397]], 5)\n",
        "0.00138783454895\n"
       ]
      }
     ],
     "prompt_number": 14
    },
    {
     "cell_type": "code",
     "collapsed": false,
     "input": [
      "begin_romberg = time.time()\n",
      "print romberg_original(g,0,1,show=True)\n",
      "end_romberg = time.time()\n",
      "print end_romberg - begin_romberg"
     ],
     "language": "python",
     "metadata": {},
     "outputs": [
      {
       "output_type": "stream",
       "stream": "stdout",
       "text": [
        "Romberg integration of <function vfunc at 0x2c6a050> from [0, 1]\n",
        "\n",
        " Steps  StepSize   Results\n",
        "     1  1.000000  0.385872 \n",
        "     2  0.500000  0.412631  0.421551 \n",
        "     4  0.250000  0.419184  0.421368  0.421356 \n",
        "     8  0.125000  0.420810  0.421352  0.421350  0.421350 \n",
        "    16  0.062500  0.421215  0.421350  0.421350  0.421350  0.421350 \n",
        "    32  0.031250  0.421317  0.421350  0.421350  0.421350  0.421350  0.421350 \n",
        "\n",
        "The final result is 0.421350396475 after 33 function evaluations.\n",
        "0.421350396475\n",
        "0.0032639503479\n"
       ]
      }
     ],
     "prompt_number": 16
    },
    {
     "cell_type": "markdown",
     "metadata": {},
     "source": [
      "Nous y voil\u00e0 ! Le temps d'ex\u00e9cution de la fonction de `scipy` d\u00e9pend assez peu de la pr\u00e9cision voulue (on gagne deux ordres de magnitude, sans mettre plus de temps), alors que pour notre fonction, on met deux fois plus de temps !"
     ]
    },
    {
     "cell_type": "code",
     "collapsed": false,
     "input": [],
     "language": "python",
     "metadata": {},
     "outputs": []
    }
   ],
   "metadata": {}
  }
 ]
}