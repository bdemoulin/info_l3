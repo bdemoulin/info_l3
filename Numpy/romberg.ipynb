{
 "metadata": {
  "name": "",
  "signature": "sha256:bdcb02958018064f53d361d8f51f1fa719bba5d6fa13a2d767d9dc6f3cc4eb97"
 },
 "nbformat": 3,
 "nbformat_minor": 0,
 "worksheets": [
  {
   "cells": [
    {
     "cell_type": "code",
     "collapsed": false,
     "input": [
      "import numpy as np\n",
      "from __future__ import division"
     ],
     "language": "python",
     "metadata": {},
     "outputs": [],
     "prompt_number": 20
    },
    {
     "cell_type": "code",
     "collapsed": false,
     "input": [
      "def f(x):\n",
      "    return x**2"
     ],
     "language": "python",
     "metadata": {},
     "outputs": [],
     "prompt_number": 55
    },
    {
     "cell_type": "code",
     "collapsed": false,
     "input": [
      "def trapeze(f,a,b,n):\n",
      "    \n",
      "    h = (b-a)/2**n\n",
      "    \n",
      "    integral = h*( (f(a)+f(b)) / 2 )\n",
      "    \n",
      "    for i in xrange(1,2**n):\n",
      "        integral += h*f(a+i*h)\n",
      "        \n",
      "    return integral"
     ],
     "language": "python",
     "metadata": {},
     "outputs": [],
     "prompt_number": 56
    },
    {
     "cell_type": "code",
     "collapsed": false,
     "input": [
      "begin_trapeze = time.time()\n",
      "print trapeze(f,0,1,10)\n",
      "end_trapeze = time.time()\n",
      "print end_trapeze - begin_trapeze"
     ],
     "language": "python",
     "metadata": {},
     "outputs": [
      {
       "output_type": "stream",
       "stream": "stdout",
       "text": [
        "0.333333492279\n",
        "0.000637054443359\n"
       ]
      }
     ],
     "prompt_number": 115
    },
    {
     "cell_type": "code",
     "collapsed": false,
     "input": [
      "def romberg(f,a,b,epsilon=1e-6,maxIter=200):\n",
      "    \n",
      "    r = [ [trapeze(f,a,b,1)] ]\n",
      "    \n",
      "    # Recursive computation of r\n",
      "    difference = 1\n",
      "    n = 1\n",
      "    count = 1\n",
      "    while difference > epsilon and count<maxIter:\n",
      "        \n",
      "        #r_n = np.zeros(n+1)\n",
      "        r_n = []\n",
      "        r_n.append(trapeze(f,a,b,n+1))\n",
      "        \n",
      "        for m in xrange(1,n+1):\n",
      "            r_n.append((4**m * r_n[m-1] - r[n-1][m-1])/(4**m - 1))\n",
      "            \n",
      "        r.append(r_n)\n",
      "        \n",
      "        difference = abs(r_n[n-1] - r[n-1][n-1])\n",
      "        n+=1\n",
      "        count += 1\n",
      "\n",
      "    return r[-1][-1],n"
     ],
     "language": "python",
     "metadata": {},
     "outputs": [],
     "prompt_number": 112
    },
    {
     "cell_type": "code",
     "collapsed": false,
     "input": [
      "romberg(f,0,1)"
     ],
     "language": "python",
     "metadata": {},
     "outputs": [
      {
       "metadata": {},
       "output_type": "pyout",
       "prompt_number": 113,
       "text": [
        "(0.3333333333333333, 3)"
       ]
      }
     ],
     "prompt_number": 113
    },
    {
     "cell_type": "code",
     "collapsed": false,
     "input": [
      "from scipy.integrate import romberg as romberg_original\n",
      "import time"
     ],
     "language": "python",
     "metadata": {},
     "outputs": [],
     "prompt_number": 101
    },
    {
     "cell_type": "code",
     "collapsed": false,
     "input": [
      "begin_romberg = time.time()\n",
      "print romberg(f,0,1)\n",
      "end_romberg = time.time()\n",
      "print end_romberg - begin_romberg"
     ],
     "language": "python",
     "metadata": {},
     "outputs": [
      {
       "output_type": "stream",
       "stream": "stdout",
       "text": [
        "0.333333333333\n",
        "0.000187873840332\n"
       ]
      }
     ],
     "prompt_number": 104
    },
    {
     "cell_type": "code",
     "collapsed": false,
     "input": [
      "begin_romberg = time.time()\n",
      "print romberg_original(f,a,b,tol=1e-6,rtol=1e-6)\n",
      "end_romberg = time.time()\n",
      "print end_romberg - begin_romberg"
     ],
     "language": "python",
     "metadata": {},
     "outputs": [
      {
       "output_type": "stream",
       "stream": "stdout",
       "text": [
        "0.333333333333\n",
        "0.000462055206299\n"
       ]
      }
     ],
     "prompt_number": 107
    },
    {
     "cell_type": "code",
     "collapsed": false,
     "input": [
      "def g(x):\n",
      "    return x*np.exp(-x**2)"
     ],
     "language": "python",
     "metadata": {},
     "outputs": [],
     "prompt_number": 106
    },
    {
     "cell_type": "code",
     "collapsed": false,
     "input": [
      "begin_romberg = time.time()\n",
      "print romberg(g,-1,1)\n",
      "end_romberg = time.time()\n",
      "print end_romberg - begin_romberg"
     ],
     "language": "python",
     "metadata": {},
     "outputs": [
      {
       "output_type": "stream",
       "stream": "stdout",
       "text": [
        "0.0\n",
        "0.000462055206299\n"
       ]
      }
     ],
     "prompt_number": 110
    },
    {
     "cell_type": "code",
     "collapsed": false,
     "input": [
      "begin_romberg = time.time()\n",
      "print romberg_original(g,-1,1,tol=1e-6,rtol=1e-6)\n",
      "end_romberg = time.time()\n",
      "print end_romberg - begin_romberg"
     ],
     "language": "python",
     "metadata": {},
     "outputs": [
      {
       "output_type": "stream",
       "stream": "stdout",
       "text": [
        "0.0\n",
        "0.000756025314331\n"
       ]
      }
     ],
     "prompt_number": 111
    },
    {
     "cell_type": "code",
     "collapsed": false,
     "input": [],
     "language": "python",
     "metadata": {},
     "outputs": []
    }
   ],
   "metadata": {}
  }
 ]
}