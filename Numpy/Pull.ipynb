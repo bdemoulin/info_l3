{
 "metadata": {
  "name": "Pull"
 },
 "nbformat": 3,
 "nbformat_minor": 0,
 "worksheets": [
  {
   "cells": [
    {
     "cell_type": "markdown",
     "metadata": {},
     "source": [
      "## Pull d'une s\u00e9rie statistique\n"
     ]
    },
    {
     "cell_type": "code",
     "collapsed": false,
     "input": [
      "import numpy as np"
     ],
     "language": "python",
     "metadata": {},
     "outputs": [],
     "prompt_number": 1
    },
    {
     "cell_type": "markdown",
     "metadata": {},
     "source": [
      "Partant d'un tableau 1D `x`, avec les erreurs `dx`, on veut renvoyer une liste contenant le pull associ\u00e9 \u00e0 chaque valeur. "
     ]
    },
    {
     "cell_type": "code",
     "collapsed": false,
     "input": [
      "def pull(x,dx):\n",
      "    \n",
      "    # Commen\u00e7ons par cr\u00e9er un tableau `p` vide, que l'on remplira par la suite.\n",
      "    p = np.array([])\n",
      "    \n",
      "    # Chaque `p[i]` est calcul\u00e9 ind\u00e9pendamment\n",
      "    for i in xrange(0,len(x)):\n",
      "        \n",
      "        # On commence par d\u00e9couper notre tableau `x` pour exclure l'\u00e9l\u00e9ment `x[i]` ; on fait de m\u00eame avec dx\n",
      "        x_no_i = np.append(x[:i],x[i+1:])\n",
      "        dx_no_i = np.append(dx[:i],dx[i+1:])\n",
      "        \n",
      "        # On calcule ensuite la moyenne optimale `E_i`\n",
      "        E_i = np.sum(x_no_i / (dx_no_i**2)) / np.sum(1. / (dx_no_i**2))\n",
      "        \n",
      "        # Puis l'erreur sur la moyenne pond\u00e9r\u00e9e\n",
      "        sigma_E_i_squared = 1 / np.sum(1. /  (dx_no_i**2))\n",
      "        \n",
      "        # Ces donn\u00e9es sont inject\u00e9es dans l'expression du pull\n",
      "        p_i = (x[i] - E_i) / np.sqrt(sigma_E_i_squared + dx[i]**2)\n",
      "        \n",
      "        # Enfin, on ajoute l'\u00e9l\u00e9ment ainsi calcul\u00e9 au tableau initial\n",
      "        p = np.append(p,np.array([p_i]))\n",
      "        \n",
      "    return p"
     ],
     "language": "python",
     "metadata": {},
     "outputs": [],
     "prompt_number": 13
    },
    {
     "cell_type": "markdown",
     "metadata": {},
     "source": [
      "### Test de la fonction"
     ]
    },
    {
     "cell_type": "markdown",
     "metadata": {},
     "source": [
      "On va utiliser un tableau `x` et des erreurs `dx` pour lesquels on peut \u00e9valuer le pull \u00e0 la main."
     ]
    },
    {
     "cell_type": "code",
     "collapsed": false,
     "input": [
      "x = np.array([0,1])"
     ],
     "language": "python",
     "metadata": {},
     "outputs": [],
     "prompt_number": 19
    },
    {
     "cell_type": "code",
     "collapsed": false,
     "input": [
      "dx = np.array([0.1, 0.1])"
     ],
     "language": "python",
     "metadata": {},
     "outputs": [],
     "prompt_number": 20
    },
    {
     "cell_type": "code",
     "collapsed": false,
     "input": [
      "p = pull(x,dx)"
     ],
     "language": "python",
     "metadata": {},
     "outputs": [],
     "prompt_number": 21
    },
    {
     "cell_type": "code",
     "collapsed": false,
     "input": [
      "p"
     ],
     "language": "python",
     "metadata": {},
     "outputs": [
      {
       "output_type": "pyout",
       "prompt_number": 22,
       "text": [
        "array([-7.07106781,  7.07106781])"
       ]
      }
     ],
     "prompt_number": 22
    },
    {
     "cell_type": "markdown",
     "metadata": {},
     "source": [
      "C'est bien ce que l'on calcule \u00e0 la main."
     ]
    },
    {
     "cell_type": "code",
     "collapsed": false,
     "input": [],
     "language": "python",
     "metadata": {},
     "outputs": []
    }
   ],
   "metadata": {}
  }
 ]
}