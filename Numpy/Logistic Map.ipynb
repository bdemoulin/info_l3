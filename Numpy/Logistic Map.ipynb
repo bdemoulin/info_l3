{
 "metadata": {
  "name": "",
  "signature": "sha256:03c37001e35c1d29124e1ef9080d3548af335abd58c9a60ab0a06b678b67d4fd"
 },
 "nbformat": 3,
 "nbformat_minor": 0,
 "worksheets": [
  {
   "cells": [
    {
     "cell_type": "markdown",
     "metadata": {},
     "source": [
      "## \u00c9tude de la suite logistique"
     ]
    },
    {
     "cell_type": "markdown",
     "metadata": {},
     "source": [
      "La [suite logistique](http://en.wikipedia.org/wiki/Logistic_map) est souvent \u00e9tudi\u00e9e en introduction aux ph\u00e9nom\u00e8nes chaotiques. Elle s'exprime sous la forme : $ x_{n+1} = r x_n (1 - x_n) $. \n",
      "\n",
      "Selon la valeur du param\u00e8tre $r$, le nombre de points d'\u00e9quilibre de la suite varie fortement. On se propose d'\u00e9tudier ce probl\u00e8me."
     ]
    },
    {
     "cell_type": "code",
     "collapsed": false,
     "input": [
      "import numpy as np\n",
      "import random"
     ],
     "language": "python",
     "metadata": {},
     "outputs": [],
     "prompt_number": 10
    },
    {
     "cell_type": "markdown",
     "metadata": {},
     "source": [
      "Commen\u00e7ons par d\u00e9finir la suite logistique dans une fonction `logisticMap` :"
     ]
    },
    {
     "cell_type": "code",
     "collapsed": false,
     "input": [
      "def logisticMap(x,r):\n",
      "    \n",
      "    '''\n",
      "    Returns the value of the logistic function at point `x`, with parameter `r`.\n",
      "    '''\n",
      "    \n",
      "    return x*r*(1-x)"
     ],
     "language": "python",
     "metadata": {},
     "outputs": [],
     "prompt_number": 11
    },
    {
     "cell_type": "markdown",
     "metadata": {},
     "source": [
      "Un point fixe d'une fonction est un point qui ne change pas par cette fonction. On appelle cela un attracteur. Pour les trouver num\u00e9riquement, il suffit donc d'it\u00e9rer \"suffisamment\" la fonction initiale. \n",
      "Pour cela, on cr\u00e9\u00e9 une fonction `iterate`, prenant un param\u00e8tre `r` pour la fonction logistique et un param\u00e8tre `maxIter` d\u00e9finissant le nombre d'it\u00e9rations. La valeur de $x_0$ est choisie al\u00e9atoirement entre 0 et 1."
     ]
    },
    {
     "cell_type": "code",
     "collapsed": false,
     "input": [
      "def iterate(f,r, maxIter=100):\n",
      "    \n",
      "    '''\n",
      "    Iterate a function f that depends on a parameter r maxIter times. \n",
      "    '''\n",
      "    \n",
      "    x = random.uniform(0,1) # Random initialization of `x0`\n",
      "    \n",
      "    for i in xrange(maxIter):\n",
      "        x = f(x,r)\n",
      "    \n",
      "    # We want the final value\n",
      "    return x "
     ],
     "language": "python",
     "metadata": {},
     "outputs": [],
     "prompt_number": 12
    },
    {
     "cell_type": "markdown",
     "metadata": {},
     "source": [
      "Il est possible de stocker les valeurs successives, pour analyser les r\u00e9sultats, dans une liste"
     ]
    },
    {
     "cell_type": "code",
     "collapsed": false,
     "input": [
      "def iterateList(f,r, maxIter=100):\n",
      "    \n",
      "    '''\n",
      "    Iterate a function f that depends on a parameter r maxIter times. \n",
      "    '''\n",
      "    \n",
      "    x = random.uniform(0,1) # Random initialization of `x0`\n",
      "    l = [x]\n",
      "    for i in xrange(maxIter):\n",
      "        x = f(x,r)\n",
      "        l.append([x])\n",
      "    \n",
      "    # We want the final value\n",
      "    return l"
     ],
     "language": "python",
     "metadata": {},
     "outputs": [],
     "prompt_number": 13
    },
    {
     "cell_type": "code",
     "collapsed": false,
     "input": [
      "def generateDiagram(f,rArray,nCycles=100,showPlot=True):\n",
      "    \n",
      "    '''\n",
      "    Generate the bifurcation diagram for a function `f`, with a list of parameters `rArray`. \n",
      "    It cycles nCycles times through each attractor found.\n",
      "\n",
      "    '''\n",
      "    \n",
      "    fix_points = []\n",
      "    \n",
      "    for r in rArray:\n",
      "         \n",
      "            x = iterate(f,r)\n",
      "            \n",
      "            for i in xrange(nCycles):\n",
      "                \n",
      "                x = iterate(f,r)\n",
      "                fix_points.append([r,x])\n",
      "                \n",
      "    fix_points = np.array(fix_points)\n",
      "    \n",
      "    if showPlot:\n",
      "        \n",
      "        plot(fix_points[:,0],fix_points[:,1],'k,')\n",
      "    "
     ],
     "language": "python",
     "metadata": {},
     "outputs": [],
     "prompt_number": 17
    },
    {
     "cell_type": "code",
     "collapsed": false,
     "input": [
      "rs = np.linspace(2.8,4,2000)\n",
      "generateDiagram(logisticMap,rs)\n",
      "\n"
     ],
     "language": "python",
     "metadata": {},
     "outputs": [
      {
       "metadata": {},
       "output_type": "display_data",
       "png": "[encoded data removed]",
       "text": [
        "<matplotlib.figure.Figure at 0x106cd8cd0>"
       ]
      }
     ],
     "prompt_number": 18
    },
    {
     "cell_type": "code",
     "collapsed": false,
     "input": [],
     "language": "python",
     "metadata": {},
     "outputs": []
    }
   ],
   "metadata": {}
  }
 ]
}