{
 "metadata": {
  "name": "",
  "signature": "sha256:2496aba13de875570d3b0a81f0f7e5315c9017409e6625af910c7f0c9648bc07"
 },
 "nbformat": 3,
 "nbformat_minor": 0,
 "worksheets": [
  {
   "cells": [
    {
     "cell_type": "markdown",
     "metadata": {},
     "source": [
      "## M\u00e9thode de Runge-Kutta, ordre 4"
     ]
    },
    {
     "cell_type": "markdown",
     "metadata": {},
     "source": [
      "On commence par importer les packages n\u00e9cessaires : `numpy`, la division \"normale\", `odeint` de `scipy.integrate` pour comparer, `time` pour calculer les temps d'ex\u00e9cution, et bien s\u00fbr `matplotlib` pour tracer les solutions."
     ]
    },
    {
     "cell_type": "code",
     "collapsed": false,
     "input": [
      "import numpy as np\n",
      "from __future__ import division\n",
      "from scipy.integrate import odeint\n",
      "import matplotlib.pyplot as plt\n",
      "import time"
     ],
     "language": "python",
     "metadata": {},
     "outputs": [],
     "prompt_number": 1
    },
    {
     "cell_type": "markdown",
     "metadata": {},
     "source": [
      "On introduit ensuite notre \u00e9quation diff\u00e9rentielle. On prend tout simplement $$ y' = y, $$ dont la solution analytique est extr\u00eamement simple."
     ]
    },
    {
     "cell_type": "code",
     "collapsed": false,
     "input": [
      "def yprime(y,t):\n",
      "    return y"
     ],
     "language": "python",
     "metadata": {},
     "outputs": [],
     "prompt_number": 2
    },
    {
     "cell_type": "markdown",
     "metadata": {},
     "source": [
      "### D\u00e9finition de l'algorithme"
     ]
    },
    {
     "cell_type": "markdown",
     "metadata": {},
     "source": [
      "Notre algorithme prendra en argument :\n",
      "\n",
      "- `f`, fonction d\u00e9finissant l'\u00e9quation diff\u00e9rentielle par $ y' = f(y,t)$,\n",
      "- `y0`, valeur $ y(t_0) $,\n",
      "- `t`, de type `np.ndarray` qui contient les temps discr\u00e9tis\u00e9s."
     ]
    },
    {
     "cell_type": "code",
     "collapsed": false,
     "input": [
      "def RK4(f,y0,t):\n",
      "    \n",
      "    \"\"\"\n",
      "    Runge-Kutta method at order 4. \n",
      "    returns an array [ [y(tt), tt] ] for each tt in t.\n",
      "    \"\"\"\n",
      "    \n",
      "    # Initialization. t_prev stores the previous value of time step\n",
      "    y = np.array([ [y0,t[0]] ])\n",
      "    t_prev = t[0]\n",
      "    n = 1\n",
      "    # Loop on the elements of t\n",
      "    for tt in t[1:]:\n",
      "        \n",
      "        # Time step\n",
      "        h = tt - t_prev\n",
      "        \n",
      "        # Computation of the paramters : for each tt, we take the last element of y\n",
      "        k_1 = f(y[-1,0],tt)\n",
      "        k_2 = f(y[-1,0]+0.5*k_1*h,tt+0.5*h)\n",
      "        k_3 = f(y[-1,0]+0.5*k_2*h,tt+0.5*h)\n",
      "        k_4 = f(y[-1,0]+k_3*h,tt+h)\n",
      "        \n",
      "        # We put it all together to compute y_(tt)\n",
      "        y_next = y[-1,0] + h/6 * (k_1 + 2*k_2 + 2*k_3 + k_4)\n",
      "        \n",
      "        # Store the current value of tt for next step\n",
      "        t_prev = tt\n",
      "        n+=1\n",
      "        # Append the array with y(tt) \n",
      "        y = np.append(y,np.array([ [y_next,tt] ])).reshape(n,2)\n",
      "    \n",
      "    return y\n"
     ],
     "language": "python",
     "metadata": {},
     "outputs": [],
     "prompt_number": 3
    },
    {
     "cell_type": "markdown",
     "metadata": {},
     "source": [
      "### Quelques test"
     ]
    },
    {
     "cell_type": "code",
     "collapsed": false,
     "input": [
      "# Plot the graphs within the notebook\n",
      "%pylab inline"
     ],
     "language": "python",
     "metadata": {},
     "outputs": [
      {
       "output_type": "stream",
       "stream": "stdout",
       "text": [
        "Populating the interactive namespace from numpy and matplotlib\n"
       ]
      }
     ],
     "prompt_number": 4
    },
    {
     "cell_type": "markdown",
     "metadata": {},
     "source": [
      "Commen\u00e7ons par calculer `solution`, la solution de l'\u00e9quation diff\u00e9rentielle par notre algorithme. `time_home_made` donne le temps d'ex\u00e9cution de cet algorithme."
     ]
    },
    {
     "cell_type": "code",
     "collapsed": false,
     "input": [
      "begin = time.time()\n",
      "solution = RK4(yprime,1,np.linspace(0,1,1000))\n",
      "end = time.time()\n",
      "time_home_made = end-begin"
     ],
     "language": "python",
     "metadata": {},
     "outputs": [],
     "prompt_number": 5
    },
    {
     "cell_type": "markdown",
     "metadata": {},
     "source": [
      "On compare alors \u00e0 la solution analytique $y(t) = e^t$"
     ]
    },
    {
     "cell_type": "code",
     "collapsed": false,
     "input": [
      "plt.plot(solution[:,1],solution[:,0],label='RK Solution')\n",
      "x = np.linspace(0,1,1000)\n",
      "plt.plot(x,np.exp(x),label='Analytical Solution')\n",
      "plt.legend(loc='upper left')"
     ],
     "language": "python",
     "metadata": {},
     "outputs": [
      {
       "metadata": {},
       "output_type": "pyout",
       "prompt_number": 6,
       "text": [
        "<matplotlib.legend.Legend at 0x324b0d0>"
       ]
      },
      {
       "metadata": {},
       "output_type": "display_data",
       "png": "[encoded data removed]",
       "text": [
        "<matplotlib.figure.Figure at 0x324b110>"
       ]
      }
     ],
     "prompt_number": 6
    },
    {
     "cell_type": "markdown",
     "metadata": {},
     "source": [
      "C'est plut\u00f4t ressemblant, notre algorithme semble donc tenir la route, c'est encourageant ! Mais que vaut-il par rapport \u00e0 la version optimis\u00e9e de `odeint` ? M\u00eame chose que plus haut, on calcule la solution par `odeint`, on stocke le temps d'ex\u00e9cution dans `time_scipy`."
     ]
    },
    {
     "cell_type": "code",
     "collapsed": false,
     "input": [
      "begin = time.time()\n",
      "scipy_sol = odeint(yprime,1,np.linspace(0,1,1000))\n",
      "end = time.time()\n",
      "time_scipy = end-begin"
     ],
     "language": "python",
     "metadata": {},
     "outputs": [],
     "prompt_number": 7
    },
    {
     "cell_type": "markdown",
     "metadata": {},
     "source": [
      "Comparons alors les trois m\u00e9thodes :"
     ]
    },
    {
     "cell_type": "code",
     "collapsed": false,
     "input": [
      "plt.plot(solution[:,1],solution[:,0],label='RK Solution')\n",
      "x = np.linspace(0,1,1000)\n",
      "plt.plot(x,np.exp(x),label='Analytical Solution')\n",
      "plt.plot(x,scipy_sol,label='Scipy Solution')\n",
      "plt.legend(loc='upper left')"
     ],
     "language": "python",
     "metadata": {},
     "outputs": [
      {
       "metadata": {},
       "output_type": "pyout",
       "prompt_number": 8,
       "text": [
        "<matplotlib.legend.Legend at 0x3506fd0>"
       ]
      },
      {
       "metadata": {},
       "output_type": "display_data",
       "png": "[encoded data removed]",
       "text": [
        "<matplotlib.figure.Figure at 0x327c190>"
       ]
      }
     ],
     "prompt_number": 8
    },
    {
     "cell_type": "markdown",
     "metadata": {},
     "source": [
      "Notre algorithme semble fonctionner plut\u00f4t bien ! Regardons tout cela en d\u00e9tail, en calculant les erreurs moyennes absolues entre :\n",
      "\n",
      "- `scipy` et notre algo : `difference_scipy`,\n",
      "- notre algo et la solution analytique : `difference_analytic`,\n",
      "- `scipy` et la solution analytique : `difference_scipy_analytic`.\n",
      "\n",
      "On prend ensuite les moyennes de ces tableaux."
     ]
    },
    {
     "cell_type": "code",
     "collapsed": false,
     "input": [
      "difference_scipy = np.abs(scipy_sol.squeeze() - solution[:,0])"
     ],
     "language": "python",
     "metadata": {},
     "outputs": [],
     "prompt_number": 9
    },
    {
     "cell_type": "code",
     "collapsed": false,
     "input": [
      "difference_analytic = np.abs(np.exp(x) - solution[:,0])"
     ],
     "language": "python",
     "metadata": {},
     "outputs": [],
     "prompt_number": 10
    },
    {
     "cell_type": "code",
     "collapsed": false,
     "input": [
      "difference_scipy_analytic = np.abs(scipy_sol.squeeze() -np.exp(x))"
     ],
     "language": "python",
     "metadata": {},
     "outputs": [],
     "prompt_number": 11
    },
    {
     "cell_type": "code",
     "collapsed": false,
     "input": [
      "print np.mean(difference_scipy)\n",
      "print np.mean(difference_analytic)\n",
      "print np.mean(difference_scipy_analytic)"
     ],
     "language": "python",
     "metadata": {},
     "outputs": [
      {
       "output_type": "stream",
       "stream": "stdout",
       "text": [
        "4.3949752254e-08\n",
        "9.95203919274e-15\n",
        "4.39497427154e-08\n"
       ]
      }
     ],
     "prompt_number": 12
    },
    {
     "cell_type": "markdown",
     "metadata": {},
     "source": [
      "On est tr\u00e8s loin de la pr\u00e9cision offerte ! Et au niveau du temps de calcul ?"
     ]
    },
    {
     "cell_type": "code",
     "collapsed": false,
     "input": [
      "print time_home_made\n",
      "print time_scipy"
     ],
     "language": "python",
     "metadata": {},
     "outputs": [
      {
       "output_type": "stream",
       "stream": "stdout",
       "text": [
        "0.0398211479187\n",
        "0.000612020492554\n"
       ]
      }
     ],
     "prompt_number": 13
    },
    {
     "cell_type": "markdown",
     "metadata": {},
     "source": [
      "L\u00e0 encore, `scipy` fait mieux que nous ! La version de `scipy` contient en fait du code `Fortran` compil\u00e9, bien plus rapide \u00e0 ex\u00e9cuter. Par ailleurs, la pr\u00e9cision num\u00e9rique est bien sup\u00e9rieure avec ces moyens. D'o\u00f9 l'importance d'utiliser ces biblioth\u00e8ques hautement optimis\u00e9es !"
     ]
    }
   ],
   "metadata": {}
  }
 ]
}